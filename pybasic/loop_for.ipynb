{
 "cells": [
  {
   "cell_type": "code",
   "execution_count": 12,
   "metadata": {},
   "outputs": [
    {
     "name": "stdout",
     "output_type": "stream",
     "text": [
      "frase\n",
      "frase\n",
      "frase\n",
      "frase\n",
      "frase\n",
      "frase\n",
      "frase\n",
      "frase\n",
      "frase\n",
      "frase\n"
     ]
    }
   ],
   "source": [
    "b = 10\n",
    "\n",
    "\n",
    "for i in range(b):\n",
    "\n",
    "    print(\"frase\")"
   ]
  },
  {
   "cell_type": "code",
   "execution_count": 26,
   "metadata": {},
   "outputs": [
    {
     "name": "stdout",
     "output_type": "stream",
     "text": [
      "delta = -7\n",
      "delta = -23\n",
      "delta = -47\n",
      "delta = -79\n",
      "delta = -119\n",
      "delta = -167\n",
      "delta = -223\n",
      "delta = -287\n",
      "delta = -359\n",
      "delta = -439\n"
     ]
    }
   ],
   "source": [
    "a = 0\n",
    "b = 1\n",
    "c = 2\n",
    "\n",
    "\n",
    "for i in range(10):\n",
    "    a += 1\n",
    "    b += 2\n",
    "    c += 2\n",
    "    print(\"delta =\",b**2-4*a*c)"
   ]
  },
  {
   "cell_type": "code",
   "execution_count": 20,
   "metadata": {},
   "outputs": [
    {
     "name": "stdout",
     "output_type": "stream",
     "text": [
      "3\n",
      "5\n",
      "7\n",
      "9\n",
      "11\n",
      "13\n",
      "15\n",
      "17\n",
      "19\n",
      "21\n"
     ]
    }
   ],
   "source": [
    "a = 1\n",
    "for i in range(10):\n",
    "    a = a + 2\n",
    "    print(a)"
   ]
  },
  {
   "cell_type": "code",
   "execution_count": 23,
   "metadata": {},
   "outputs": [
    {
     "name": "stdout",
     "output_type": "stream",
     "text": [
      "4\n",
      "6\n",
      "8\n",
      "10\n",
      "12\n",
      "14\n",
      "16\n",
      "18\n",
      "20\n",
      "22\n"
     ]
    }
   ],
   "source": [
    "a = 2\n",
    "for i in range(10):\n",
    "    a = a + 2\n",
    "    print(a)"
   ]
  },
  {
   "cell_type": "code",
   "execution_count": 27,
   "metadata": {},
   "outputs": [
    {
     "name": "stdout",
     "output_type": "stream",
     "text": [
      "m\n",
      "a\n",
      "t\n",
      "h\n"
     ]
    }
   ],
   "source": [
    "palavra = \"math\"\n",
    "for i in palavra:\n",
    "    print(i)"
   ]
  },
  {
   "cell_type": "code",
   "execution_count": 31,
   "metadata": {},
   "outputs": [
    {
     "name": "stdout",
     "output_type": "stream",
     "text": [
      "L\n",
      "u\n",
      "i\n",
      "z\n",
      " \n",
      "H\n",
      "n\n",
      "e\n",
      "r\n",
      "i\n",
      "q\n",
      "u\n",
      "e\n",
      " \n",
      "M\n",
      "a\n",
      "r\n",
      "t\n",
      "i\n",
      "n\n",
      "s\n",
      " \n",
      "L\n",
      "o\n",
      "p\n",
      "e\n",
      "s\n"
     ]
    }
   ],
   "source": [
    "palavra = \"Luiz Hnerique Martins Lopes\"\n",
    "for letra in palavra:\n",
    "    print(letra)"
   ]
  },
  {
   "cell_type": "code",
   "execution_count": 36,
   "metadata": {},
   "outputs": [
    {
     "name": "stdout",
     "output_type": "stream",
     "text": [
      "2\n",
      "luiz\n",
      "8\n",
      "10\n",
      "4\n",
      "4\n"
     ]
    }
   ],
   "source": [
    "lista = [2, \"luiz\", 8, 10, 4, 4]\n",
    "for num in lista:\n",
    "    print(num)"
   ]
  },
  {
   "cell_type": "code",
   "execution_count": 40,
   "metadata": {},
   "outputs": [
    {
     "name": "stdout",
     "output_type": "stream",
     "text": [
      "12\n",
      "11\n",
      "18\n",
      "20\n",
      "14\n",
      "14\n"
     ]
    }
   ],
   "source": [
    "lista = [2, 1, 8, 10, 4, 4]\n",
    "for num in lista:\n",
    "    print(num+10)"
   ]
  },
  {
   "cell_type": "code",
   "execution_count": null,
   "metadata": {},
   "outputs": [],
   "source": []
  }
 ],
 "metadata": {
  "kernelspec": {
   "display_name": "Python 3",
   "language": "python",
   "name": "python3"
  },
  "language_info": {
   "codemirror_mode": {
    "name": "ipython",
    "version": 3
   },
   "file_extension": ".py",
   "mimetype": "text/x-python",
   "name": "python",
   "nbconvert_exporter": "python",
   "pygments_lexer": "ipython3",
   "version": "3.8.5"
  }
 },
 "nbformat": 4,
 "nbformat_minor": 4
}
