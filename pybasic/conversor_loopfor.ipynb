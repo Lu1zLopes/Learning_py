{
 "cells": [
  {
   "cell_type": "code",
   "execution_count": 6,
   "metadata": {},
   "outputs": [
    {
     "name": "stdout",
     "output_type": "stream",
     "text": [
      "[24.844720496894407, 31.05590062111801, 34.161490683229815, 12.422360248447204, 55.90062111801242, 59.00621118012422, 62.11180124223602, 74.53416149068323, 37.267080745341616]\n"
     ]
    }
   ],
   "source": [
    "#codigo para transformar valores de uma lista para outra através de loop for\n",
    "\n",
    "kmph = [40,50,55,20,90,95,100,120,60]\n",
    "miph = []\n",
    "\n",
    "for i in kmph:\n",
    "    miph.append(i/1.61)\n",
    "print(miph)"
   ]
  },
  {
   "cell_type": "code",
   "execution_count": 15,
   "metadata": {
    "scrolled": true
   },
   "outputs": [
    {
     "name": "stdout",
     "output_type": "stream",
     "text": [
      "[24.844720496894407, 31.05590062111801, 34.161490683229815, 12.422360248447204, 55.90062111801242, 59.00621118012422, 62.11180124223602, 74.53416149068323, 37.267080745341616]\n"
     ]
    }
   ],
   "source": [
    "#codigo para fazer a mesma transformação só que usando função map\n",
    "\n",
    "miph2 = list(map(lambda x:x/1.61,kmph))\n",
    "print(miph2)"
   ]
  },
  {
   "cell_type": "code",
   "execution_count": 22,
   "metadata": {},
   "outputs": [
    {
     "name": "stdout",
     "output_type": "stream",
     "text": [
      "list comprehension \n",
      "\n",
      "|\n",
      "|\n",
      "|\n",
      "V\n"
     ]
    }
   ],
   "source": [
    "print(\"list comprehension\",\"\\n\\n|\\n|\\n|\\nV\")"
   ]
  },
  {
   "cell_type": "code",
   "execution_count": 12,
   "metadata": {},
   "outputs": [
    {
     "name": "stdout",
     "output_type": "stream",
     "text": [
      "[24.844720496894407, 31.05590062111801, 34.161490683229815, 12.422360248447204, 55.90062111801242, 59.00621118012422, 62.11180124223602, 74.53416149068323, 37.267080745341616]\n"
     ]
    }
   ],
   "source": [
    "#forma mais simples de aplicar uma equação dentro de um loop for\n",
    "# [(equação) for (variavel da equação) in (assumindo valores de uma lista ou intervalo)]\n",
    "\n",
    "miph3 = [(x/1.61) for x in kmph]\n",
    "print(miph3)"
   ]
  },
  {
   "cell_type": "code",
   "execution_count": 24,
   "metadata": {},
   "outputs": [
    {
     "name": "stdout",
     "output_type": "stream",
     "text": [
      "['A', 'M', 'A', 'M', 'B', 'A', 'I', 'E', 'N', 'S', 'E', 'S']\n"
     ]
    }
   ],
   "source": [
    "#cada elemento lido por i vai ser pego a informação de i e listado separadamente como itens da lista cararacteres\n",
    "\n",
    "caracteres = [i for i in \"AMAMBAIENSES\"]\n",
    "\n",
    "print(caracteres)"
   ]
  },
  {
   "cell_type": "code",
   "execution_count": null,
   "metadata": {},
   "outputs": [],
   "source": []
  }
 ],
 "metadata": {
  "kernelspec": {
   "display_name": "Python 3",
   "language": "python",
   "name": "python3"
  },
  "language_info": {
   "codemirror_mode": {
    "name": "ipython",
    "version": 3
   },
   "file_extension": ".py",
   "mimetype": "text/x-python",
   "name": "python",
   "nbconvert_exporter": "python",
   "pygments_lexer": "ipython3",
   "version": "3.8.5"
  }
 },
 "nbformat": 4,
 "nbformat_minor": 4
}
