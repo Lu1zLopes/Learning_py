{
 "cells": [
  {
   "cell_type": "code",
   "execution_count": null,
   "metadata": {},
   "outputs": [],
   "source": [
    "#if isso é verdade: \n",
    "#    faça aquilo\n",
    "#else:\n",
    "#    faça isso"
   ]
  },
  {
   "cell_type": "code",
   "execution_count": null,
   "metadata": {},
   "outputs": [],
   "source": [
    "comida,comida2 = \"pizza\",\"fruta\"\n",
    "\n",
    "if comida == \"pizza\":\n",
    "    print(\"A {0} possui muitas calorias, vá comer uma {1}\".format(comida,comida2))\n",
    "\n"
   ]
  },
  {
   "cell_type": "code",
   "execution_count": null,
   "metadata": {},
   "outputs": [],
   "source": [
    "comida,comida2 = \"pizza\",\"fruta\"\n",
    "\n",
    "if comida == \"pizza\":\n",
    "    print(\"A {0} possui muitas calorias, vá comer uma {1}\".format(comida,comida2))\n",
    "else:\n",
    "    print(\"pode comer, pois é uma {1}\".format(comida,comida2))"
   ]
  },
  {
   "cell_type": "code",
   "execution_count": 2,
   "metadata": {},
   "outputs": [
    {
     "name": "stdout",
     "output_type": "stream",
     "text": [
      "Pode comer, pois possui poucas calorias\n"
     ]
    }
   ],
   "source": [
    "comida,comida2 = \"pizza0\",\"fruta\"\n",
    "\n",
    "if comida == \"pizza\":\n",
    "    print(\"A {0} possui muitas calorias, vá comer uma {1}\".format(comida,comida2))\n",
    "\n",
    "#se if não for verdade o elif é mais uma condição para ser analisada antes de tilizar o else\n",
    "\n",
    "elif comida2 == \"fruta\":\n",
    "    print(\"Pode comer, pois possui poucas calorias\")"
   ]
  },
  {
   "cell_type": "code",
   "execution_count": 3,
   "metadata": {},
   "outputs": [
    {
     "name": "stdout",
     "output_type": "stream",
     "text": [
      "qual a sua idade? 21\n",
      "pode passar\n"
     ]
    }
   ],
   "source": [
    "idade = int(input(\"qual a sua idade? \"))\n",
    "i = idade\n",
    "if i == 18:\n",
    "    print(\"pode passar\")\n",
    "elif i > 18:\n",
    "    print(\"pode passar\")\n",
    "else:\n",
    "    print(\"não pode\")"
   ]
  },
  {
   "cell_type": "code",
   "execution_count": 1,
   "metadata": {},
   "outputs": [
    {
     "name": "stdout",
     "output_type": "stream",
     "text": [
      "que ano voce nasceu? 2003\n",
      "pode passar, você tem 18 anos\n"
     ]
    }
   ],
   "source": [
    "ano = int(input(\"que ano voce nasceu? \"))\n",
    "i = 2021 - ano\n",
    "if i == 18:\n",
    "    print(\"pode passar, você tem\",i ,\"anos\")\n",
    "elif i > 18:\n",
    "    print(\"pode passar você tem\",i ,\"anos\")\n",
    "else:\n",
    "    print(\"não pode passar, você só tem \",i ,\"anos\")"
   ]
  },
  {
   "cell_type": "code",
   "execution_count": null,
   "metadata": {},
   "outputs": [],
   "source": []
  },
  {
   "cell_type": "code",
   "execution_count": null,
   "metadata": {},
   "outputs": [],
   "source": []
  }
 ],
 "metadata": {
  "kernelspec": {
   "display_name": "Python 3",
   "language": "python",
   "name": "python3"
  },
  "language_info": {
   "codemirror_mode": {
    "name": "ipython",
    "version": 3
   },
   "file_extension": ".py",
   "mimetype": "text/x-python",
   "name": "python",
   "nbconvert_exporter": "python",
   "pygments_lexer": "ipython3",
   "version": "3.8.5"
  }
 },
 "nbformat": 4,
 "nbformat_minor": 4
}
