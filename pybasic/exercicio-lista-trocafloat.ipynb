{
 "cells": [
  {
   "cell_type": "code",
   "execution_count": 1,
   "metadata": {},
   "outputs": [],
   "source": [
    "num = 8"
   ]
  },
  {
   "cell_type": "code",
   "execution_count": 3,
   "metadata": {},
   "outputs": [
    {
     "data": {
      "text/plain": [
       "int"
      ]
     },
     "execution_count": 3,
     "metadata": {},
     "output_type": "execute_result"
    }
   ],
   "source": [
    "type(num)"
   ]
  },
  {
   "cell_type": "code",
   "execution_count": 6,
   "metadata": {},
   "outputs": [
    {
     "data": {
      "text/plain": [
       "8.0"
      ]
     },
     "execution_count": 6,
     "metadata": {},
     "output_type": "execute_result"
    }
   ],
   "source": [
    "float(num)"
   ]
  },
  {
   "cell_type": "code",
   "execution_count": 8,
   "metadata": {},
   "outputs": [
    {
     "data": {
      "text/plain": [
       "float"
      ]
     },
     "execution_count": 8,
     "metadata": {},
     "output_type": "execute_result"
    }
   ],
   "source": [
    "type(float(num))"
   ]
  },
  {
   "cell_type": "code",
   "execution_count": 10,
   "metadata": {},
   "outputs": [
    {
     "name": "stdout",
     "output_type": "stream",
     "text": [
      "[2.0]\n",
      "[2.0, 4.0]\n",
      "[2.0, 4.0, 6.0]\n",
      "[2.0, 4.0, 6.0, 8.0]\n",
      "A nova lista = [2.0, 4.0, 6.0, 8.0, 10.0]\n"
     ]
    }
   ],
   "source": [
    "x = [2,4,6,8,10]\n",
    "lista = []\n",
    "\n",
    "from time import sleep as ts\n",
    "\n",
    "for read in x:\n",
    "    lista.append(float(read))\n",
    "    ts(0.5)\n",
    "    if float(read) == x[4]:\n",
    "        False\n",
    "    else:\n",
    "        print(lista)\n",
    "print(\"A nova lista =\",lista)"
   ]
  },
  {
   "cell_type": "code",
   "execution_count": 1,
   "metadata": {
    "scrolled": true
   },
   "outputs": [],
   "source": [
    "def trocaflt():\n",
    "    from time import sleep as ts\n",
    "    lista1 = (input(\"digite os valores inteiros da lista separando eles com virgulas: \"))\n",
    "    x = [lista1]\n",
    "    lista = []\n",
    "    for read in x:\n",
    "        lista.append(float(read))\n",
    "        ts(0.5)\n",
    "        print(\"A nova lista =\",lista)\n"
   ]
  },
  {
   "cell_type": "code",
   "execution_count": 13,
   "metadata": {},
   "outputs": [],
   "source": [
    "#trocaflt()"
   ]
  },
  {
   "cell_type": "code",
   "execution_count": 15,
   "metadata": {},
   "outputs": [
    {
     "name": "stdout",
     "output_type": "stream",
     "text": [
      "[1.0, 2.0, 3.0, 4.0, 5.0]\n"
     ]
    }
   ],
   "source": [
    "#exemplo dos comentarios mais conciso\n",
    "\n",
    "l = [1,2,3,4,5]\n",
    "\n",
    "for i in range(len(l)-1,-1,-1):\n",
    "    l[i] = float(l[i])\n",
    "    \n",
    "print(l)"
   ]
  }
 ],
 "metadata": {
  "kernelspec": {
   "display_name": "Python 3",
   "language": "python",
   "name": "python3"
  },
  "language_info": {
   "codemirror_mode": {
    "name": "ipython",
    "version": 3
   },
   "file_extension": ".py",
   "mimetype": "text/x-python",
   "name": "python",
   "nbconvert_exporter": "python",
   "pygments_lexer": "ipython3",
   "version": "3.8.5"
  }
 },
 "nbformat": 4,
 "nbformat_minor": 4
}
