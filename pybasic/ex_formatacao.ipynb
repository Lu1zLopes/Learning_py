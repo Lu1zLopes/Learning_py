{
 "cells": [
  {
   "cell_type": "code",
   "execution_count": 7,
   "metadata": {},
   "outputs": [],
   "source": [
    "fruta = \"LMAO\""
   ]
  },
  {
   "cell_type": "code",
   "execution_count": 8,
   "metadata": {},
   "outputs": [
    {
     "name": "stdout",
     "output_type": "stream",
     "text": [
      "suco de LMAO é bom, mas somente quando está bem gelado!\n"
     ]
    }
   ],
   "source": [
    "#(%s)anuncia q ali terá uma variavel do tipo str\n",
    "#(%variavel) diz qual é a variavle do tipo str que será colocada no lugar de (%s)\n",
    "\n",
    "print(\"suco de %s é bom, mas somente quando está bem gelado!\" %fruta)"
   ]
  },
  {
   "cell_type": "code",
   "execution_count": 10,
   "metadata": {},
   "outputs": [],
   "source": [
    "fruta = 2"
   ]
  },
  {
   "cell_type": "code",
   "execution_count": 13,
   "metadata": {},
   "outputs": [
    {
     "name": "stdout",
     "output_type": "stream",
     "text": [
      "suco de 2 é bom, mas somente quando está bem gelado!\n"
     ]
    }
   ],
   "source": [
    "#(%d)anuncia q ali terá uma variavel do tipo int\n",
    "#(%variavel) diz qual é a variavle do tipo int que será colocada no lugar de (%d)\n",
    "\n",
    "print(\"suco de %d é bom, mas somente quando está bem gelado!\" %fruta)\n",
    "\n",
    "#se fosse (%f) seria para casos float"
   ]
  },
  {
   "cell_type": "code",
   "execution_count": 11,
   "metadata": {},
   "outputs": [
    {
     "data": {
      "text/plain": [
       "int"
      ]
     },
     "execution_count": 11,
     "metadata": {},
     "output_type": "execute_result"
    }
   ],
   "source": [
    "type(fruta)"
   ]
  },
  {
   "cell_type": "code",
   "execution_count": 15,
   "metadata": {},
   "outputs": [
    {
     "name": "stdout",
     "output_type": "stream",
     "text": [
      "suco de LMAO é bom, mas somente quando está bem gelado!\n"
     ]
    }
   ],
   "source": [
    "fruta = \"LMAO\"\n",
    "\n",
    "#( {} )anuncia q ali terá uma variavel\n",
    "#(.format(variavel)) diz qual é a variavel que será colocada no lugar de ( {} )\n",
    "\n",
    "print(\"suco de {} é bom, mas somente quando está bem gelado!\".format(fruta))"
   ]
  },
  {
   "cell_type": "code",
   "execution_count": 18,
   "metadata": {},
   "outputs": [],
   "source": [
    "cor1 = \"blue\"\n",
    "cor2 = \"rosa\"\n"
   ]
  },
  {
   "cell_type": "code",
   "execution_count": 19,
   "metadata": {},
   "outputs": [
    {
     "name": "stdout",
     "output_type": "stream",
     "text": [
      "O céu é blue, a flor é rosa e meu carro é blue\n"
     ]
    }
   ],
   "source": [
    "print(\"O céu é {0}, a flor é {1} e meu carro é {0}\".format(cor1,cor2,))"
   ]
  },
  {
   "cell_type": "code",
   "execution_count": 22,
   "metadata": {},
   "outputs": [
    {
     "name": "stdout",
     "output_type": "stream",
     "text": [
      "5.666666666666667\n"
     ]
    }
   ],
   "source": [
    "conta = 17/3\n",
    "\n",
    "print(conta)"
   ]
  },
  {
   "cell_type": "code",
   "execution_count": 24,
   "metadata": {
    "scrolled": true
   },
   "outputs": [
    {
     "name": "stdout",
     "output_type": "stream",
     "text": [
      "o resultado da conta é: 5.666666666666667\n"
     ]
    }
   ],
   "source": [
    "print(\"o resultado da conta é: {}\".format(conta))"
   ]
  },
  {
   "cell_type": "code",
   "execution_count": 25,
   "metadata": {
    "scrolled": false
   },
   "outputs": [
    {
     "name": "stdout",
     "output_type": "stream",
     "text": [
      "o resultado da conta é: 5.67\n"
     ]
    }
   ],
   "source": [
    "#quero o resultado somente comm dois algarismos significativos\n",
    "\n",
    "print(\"o resultado da conta é: {:.2f}\".format(conta))"
   ]
  },
  {
   "cell_type": "code",
   "execution_count": 26,
   "metadata": {
    "scrolled": true
   },
   "outputs": [
    {
     "name": "stdout",
     "output_type": "stream",
     "text": [
      "o resultado da conta é: 5.66667\n"
     ]
    }
   ],
   "source": [
    "#quero o resultado somente com 5 algarismos significativos\n",
    "\n",
    "print(\"o resultado da conta é: {:.5f}\".format(conta))"
   ]
  },
  {
   "cell_type": "code",
   "execution_count": null,
   "metadata": {},
   "outputs": [],
   "source": []
  },
  {
   "cell_type": "code",
   "execution_count": null,
   "metadata": {},
   "outputs": [],
   "source": []
  }
 ],
 "metadata": {
  "kernelspec": {
   "display_name": "Python 3",
   "language": "python",
   "name": "python3"
  },
  "language_info": {
   "codemirror_mode": {
    "name": "ipython",
    "version": 3
   },
   "file_extension": ".py",
   "mimetype": "text/x-python",
   "name": "python",
   "nbconvert_exporter": "python",
   "pygments_lexer": "ipython3",
   "version": "3.8.5"
  }
 },
 "nbformat": 4,
 "nbformat_minor": 4
}
