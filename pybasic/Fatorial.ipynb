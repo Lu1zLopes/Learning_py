{
 "cells": [
  {
   "cell_type": "code",
   "execution_count": null,
   "metadata": {},
   "outputs": [],
   "source": [
    "num = int(input(\"digite um numero: \"))\n",
    "\n",
    "fat = num\n",
    "cont = 1\n",
    "\n",
    "while (num - cont) > 1:\n",
    "    fat = fat*(num - cont)\n",
    "    cont += 1\n",
    "    if (num - cont) == 0:\n",
    "        break\n",
    "if fat == 0:\n",
    "    fat = 1\n",
    "    \n",
    "print(\"{0}! = {1}\".format(num,fat))"
   ]
  }
 ],
 "metadata": {
  "kernelspec": {
   "display_name": "Python 3",
   "language": "python",
   "name": "python3"
  },
  "language_info": {
   "codemirror_mode": {
    "name": "ipython",
    "version": 3
   },
   "file_extension": ".py",
   "mimetype": "text/x-python",
   "name": "python",
   "nbconvert_exporter": "python",
   "pygments_lexer": "ipython3",
   "version": "3.8.5"
  }
 },
 "nbformat": 4,
 "nbformat_minor": 4
}
