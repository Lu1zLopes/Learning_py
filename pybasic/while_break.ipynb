{
 "cells": [
  {
   "cell_type": "code",
   "execution_count": 1,
   "metadata": {},
   "outputs": [
    {
     "name": "stdout",
     "output_type": "stream",
     "text": [
      "ainda não deu\n",
      "ainda não deu\n",
      "ainda não deu\n",
      "ainda não deu\n",
      "ainda não deu\n",
      "ainda não deu\n",
      "ainda não deu\n",
      "ainda não deu\n",
      "ainda não deu\n",
      "ainda não deu\n",
      "agora deu\n"
     ]
    }
   ],
   "source": [
    "contador = 0\n",
    "\n",
    "while contador < 10:\n",
    "\n",
    "    print(\"ainda não deu\")\n",
    "    \n",
    "    contador += 1\n",
    "    \n",
    "print(\"agora deu\")"
   ]
  },
  {
   "cell_type": "code",
   "execution_count": 2,
   "metadata": {},
   "outputs": [
    {
     "name": "stdout",
     "output_type": "stream",
     "text": [
      "0\n",
      "1\n",
      "4\n",
      "9\n",
      "16\n"
     ]
    },
    {
     "ename": "KeyboardInterrupt",
     "evalue": "",
     "output_type": "error",
     "traceback": [
      "\u001b[1;31m---------------------------------------------------------------------------\u001b[0m",
      "\u001b[1;31mKeyboardInterrupt\u001b[0m                         Traceback (most recent call last)",
      "\u001b[1;32m<ipython-input-2-7ed706343246>\u001b[0m in \u001b[0;36m<module>\u001b[1;34m\u001b[0m\n\u001b[0;32m      9\u001b[0m     \u001b[0mcontador\u001b[0m \u001b[1;33m+=\u001b[0m \u001b[1;36m1\u001b[0m\u001b[1;33m\u001b[0m\u001b[1;33m\u001b[0m\u001b[0m\n\u001b[0;32m     10\u001b[0m \u001b[1;33m\u001b[0m\u001b[0m\n\u001b[1;32m---> 11\u001b[1;33m     \u001b[0mtime\u001b[0m\u001b[1;33m.\u001b[0m\u001b[0msleep\u001b[0m\u001b[1;33m(\u001b[0m\u001b[1;36m1\u001b[0m\u001b[1;33m)\u001b[0m\u001b[1;33m\u001b[0m\u001b[1;33m\u001b[0m\u001b[0m\n\u001b[0m\u001b[0;32m     12\u001b[0m \u001b[1;33m\u001b[0m\u001b[0m\n\u001b[0;32m     13\u001b[0m \u001b[0mprint\u001b[0m\u001b[1;33m(\u001b[0m\u001b[1;34m\"agora deu\"\u001b[0m\u001b[1;33m)\u001b[0m\u001b[1;33m\u001b[0m\u001b[1;33m\u001b[0m\u001b[0m\n",
      "\u001b[1;31mKeyboardInterrupt\u001b[0m: "
     ]
    }
   ],
   "source": [
    "import time\n",
    "\n",
    "contador = 0\n",
    "\n",
    "while contador < 20:\n",
    "    \n",
    "    print(contador**2)\n",
    "    \n",
    "    contador += 1\n",
    "    \n",
    "    time.sleep(1)\n",
    "    \n",
    "print(\"agora deu\")"
   ]
  },
  {
   "cell_type": "code",
   "execution_count": null,
   "metadata": {},
   "outputs": [],
   "source": [
    "import time\n",
    "\n",
    "contador = 0\n",
    "\n",
    "while contador < 20:\n",
    "    \n",
    "    print(contador**2)\n",
    "    \n",
    "    contador += 1\n",
    "    \n",
    "    if contador**2 == 25:\n",
    "        \n",
    "        print(contador**2)\n",
    "        \n",
    "        break\n",
    "    \n",
    "    #serve para atrasar em 1 seg o while\n",
    "    time.sleep(1)\n",
    "    \n",
    "print(\"agora deu\")"
   ]
  },
  {
   "cell_type": "code",
   "execution_count": 39,
   "metadata": {},
   "outputs": [
    {
     "name": "stdout",
     "output_type": "stream",
     "text": [
      "digite um numero: 6\n",
      "6! = 720\n"
     ]
    }
   ],
   "source": [
    "#fatorial 4! = 4*3*2*1 = 24\n",
    "\n",
    "num = int(input(\"digite um numero: \"))\n",
    "\n",
    "fat = num\n",
    "cont = 1\n",
    "\n",
    "#fatorial = numero*(numero-1)*(numero-2)*(numeron-3)\n",
    "\n",
    "while (num - cont) > 1:\n",
    "    fat = fat*(num - cont)\n",
    "    cont += 1\n",
    "    if (num - cont) == 0:\n",
    "        break\n",
    "if fat == 0:\n",
    "    fat = 1\n",
    "    \n",
    "print(\"{0}! = {1}\".format(num,fat))"
   ]
  },
  {
   "cell_type": "code",
   "execution_count": null,
   "metadata": {},
   "outputs": [],
   "source": []
  },
  {
   "cell_type": "code",
   "execution_count": null,
   "metadata": {},
   "outputs": [],
   "source": []
  }
 ],
 "metadata": {
  "kernelspec": {
   "display_name": "Python 3",
   "language": "python",
   "name": "python3"
  },
  "language_info": {
   "codemirror_mode": {
    "name": "ipython",
    "version": 3
   },
   "file_extension": ".py",
   "mimetype": "text/x-python",
   "name": "python",
   "nbconvert_exporter": "python",
   "pygments_lexer": "ipython3",
   "version": "3.8.5"
  }
 },
 "nbformat": 4,
 "nbformat_minor": 4
}
